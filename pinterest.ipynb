{
 "cells": [
  {
   "cell_type": "code",
   "execution_count": 3,
   "id": "20bdffd6-d5f3-40d0-bbfc-03aa8fd5edf3",
   "metadata": {},
   "outputs": [],
   "source": [
    "import turtle"
   ]
  },
  {
   "cell_type": "code",
   "execution_count": 5,
   "id": "68c53052-6176-435b-8641-cff9f938b02d",
   "metadata": {},
   "outputs": [],
   "source": [
    "\n",
    "t=turtle.Turtle()\n",
    "s=turtle.Screen()\n",
    "s.bgcolor('#262626')\n",
    "t.pencolor('#7C909C')\n",
    "col=('#EDB104','#FFB6C1','#5A2F3D','#B3A3FF')\n",
    "\n",
    "for n in range(5):\n",
    "    for x in range(8):\n",
    "        t.speed(x+10)\n",
    "        for i in range(2):\n",
    "            t.pensize(3)\n",
    "            t.circle(80+n*20,90)\n",
    "            t.lt(90)\n",
    "        t.lt(45)\n",
    "    t.pencolor(col[n%4])\n",
    "s.exitonclick()"
   ]
  },
  {
   "cell_type": "code",
   "execution_count": null,
   "id": "1a36ace2-d5cc-4fac-afbe-75a897e5011d",
   "metadata": {},
   "outputs": [],
   "source": []
  },
  {
   "cell_type": "code",
   "execution_count": null,
   "id": "3b3c16d6-2e31-4dce-94c8-ca806fcbf3ff",
   "metadata": {},
   "outputs": [],
   "source": []
  }
 ],
 "metadata": {
  "kernelspec": {
   "display_name": "Python 3 (ipykernel)",
   "language": "python",
   "name": "python3"
  },
  "language_info": {
   "codemirror_mode": {
    "name": "ipython",
    "version": 3
   },
   "file_extension": ".py",
   "mimetype": "text/x-python",
   "name": "python",
   "nbconvert_exporter": "python",
   "pygments_lexer": "ipython3",
   "version": "3.12.7"
  }
 },
 "nbformat": 4,
 "nbformat_minor": 5
}
