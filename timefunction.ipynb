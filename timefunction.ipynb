{
 "cells": [
  {
   "cell_type": "code",
   "execution_count": 1,
   "id": "39a7701c-e0fb-4904-81a3-87744a3d9639",
   "metadata": {},
   "outputs": [
    {
     "ename": "ModuleNotFoundError",
     "evalue": "No module named 'pdfkit'",
     "output_type": "error",
     "traceback": [
      "\u001b[1;31m---------------------------------------------------------------------------\u001b[0m",
      "\u001b[1;31mModuleNotFoundError\u001b[0m                       Traceback (most recent call last)",
      "Cell \u001b[1;32mIn[1], line 1\u001b[0m\n\u001b[1;32m----> 1\u001b[0m \u001b[38;5;28;01mimport\u001b[39;00m \u001b[38;5;21;01mpdfkit\u001b[39;00m\n\u001b[0;32m      3\u001b[0m input_file \u001b[38;5;241m=\u001b[39m \u001b[38;5;124m\"\u001b[39m\u001b[38;5;124minput.html\u001b[39m\u001b[38;5;124m\"\u001b[39m\n\u001b[0;32m      4\u001b[0m output_file \u001b[38;5;241m=\u001b[39m \u001b[38;5;124m\"\u001b[39m\u001b[38;5;124moutput.pdf\u001b[39m\u001b[38;5;124m\"\u001b[39m\n",
      "\u001b[1;31mModuleNotFoundError\u001b[0m: No module named 'pdfkit'"
     ]
    }
   ],
   "source": [
    "import pdfkit\n",
    "\n",
    "input_file = \"input.html\"\n",
    "output_file = \"output.pdf\"\n",
    "\n",
    "pdfkit.from_file(input_file, output_file)"
   ]
  },
  {
   "cell_type": "code",
   "execution_count": 1,
   "id": "698cb911-190b-4697-b52d-b43e30627072",
   "metadata": {},
   "outputs": [
    {
     "name": "stdout",
     "output_type": "stream",
     "text": [
      "Ranked data:\n",
      "    Roll No  Maths  Chemistry  Maths Rank  Chemistry Rank    d  d^2\n",
      "0        1     78         84         6.0             7.0 -1.0  1.0\n",
      "1        2     36         51         2.0             1.0  1.0  1.0\n",
      "2        3     98         91         9.0             9.0  0.0  0.0\n",
      "3        4     25         60         1.0             4.0 -3.0  9.0\n",
      "4        5     75         68         5.0             6.0 -1.0  1.0\n",
      "5        6     82         62         7.0             5.0  2.0  4.0\n",
      "6        7     90         86         8.0             8.0  0.0  0.0\n",
      "7        8     62         58         3.0             3.0  0.0  0.0\n",
      "8        9     65         53         4.0             2.0  2.0  4.0\n",
      "\n",
      "Spearman's Rank Correlation Coefficient: 0.8333333333333334\n"
     ]
    }
   ],
   "source": [
    "import pandas as pd\n",
    "\n",
    "# Given data\n",
    "roll_no = [1, 2, 3, 4, 5, 6, 7, 8, 9]\n",
    "maths = [78, 36, 98, 25, 75, 82, 90, 62, 65]\n",
    "chemistry = [84, 51, 91, 60, 68, 62, 86, 58, 53]\n",
    "\n",
    "# Create a DataFrame\n",
    "df = pd.DataFrame({'Roll No': roll_no, 'Maths': maths, 'Chemistry': chemistry})\n",
    "\n",
    "# Rank the data\n",
    "df['Maths Rank'] = df['Maths'].rank()\n",
    "df['Chemistry Rank'] = df['Chemistry'].rank()\n",
    "\n",
    "# Calculate the differences (d_i) and squared differences (d_i^2)\n",
    "df['d'] = df['Maths Rank'] - df['Chemistry Rank']\n",
    "df['d^2'] = df['d'] ** 2\n",
    "\n",
    "# Sum of squared differences\n",
    "sum_d_squared = df['d^2'].sum()\n",
    "\n",
    "# Number of data points\n",
    "n = len(df)\n",
    "\n",
    "# Spearman's rank correlation formula\n",
    "r_s = 1 - (6 * sum_d_squared) / (n * (n**2 - 1))\n",
    "\n",
    "print(\"Ranked data:\\n\", df)\n",
    "print(\"\\nSpearman's Rank Correlation Coefficient:\", r_s)\n"
   ]
  },
  {
   "cell_type": "code",
   "execution_count": 67,
   "id": "aff0ab48-b0ac-4a9e-9441-02b18193335b",
   "metadata": {},
   "outputs": [
    {
     "name": "stdout",
     "output_type": "stream",
     "text": [
      "Today : 23 - 3 - 2025\n",
      "Date : 1979-08-25\n",
      "Date : 1983-03-02\n",
      "1285 days, 0:00:00\n",
      "2524 days, 0:00:00\n",
      "Year difference : 6\n",
      "Age : 46\n"
     ]
    }
   ],
   "source": [
    "import datetime as dt\n",
    "a=dt.date.today()\n",
    "print(\"Today :\",a.day,\"-\",a.month,\"-\",a.year)\n",
    "b=dt.date(1979,8,25)\n",
    "print(\"Date :\",b)\n",
    "c=dt.date(1983,3,2)\n",
    "print(\"Date :\",c)\n",
    "d=c-b\n",
    "print(d)\n",
    "e=dt.date(2012,11,29)\n",
    "f=dt.date(2006,1,1)\n",
    "g=e-f\n",
    "h=e.year-f.year\n",
    "i=a.year-b.year\n",
    "print(g)\n",
    "print(\"Year difference :\",h)\n",
    "print(\"Age :\",i)"
   ]
  },
  {
   "cell_type": "code",
   "execution_count": null,
   "id": "b185bb73-bcac-46e6-8d27-ec09964411c9",
   "metadata": {},
   "outputs": [],
   "source": [
    "from dateutil.relativedelta import relativedelta\n",
    "import datetime as dt\n",
    "\n",
    "a=dt.date.today()\n",
    "b=dt.date(2012,11,29)\n"
   ]
  },
  {
   "cell_type": "code",
   "execution_count": 63,
   "id": "ed967c19-9477-42c9-af68-71493b346d2b",
   "metadata": {},
   "outputs": [
    {
     "name": "stdout",
     "output_type": "stream",
     "text": [
      "Age: -11 years\n"
     ]
    }
   ],
   "source": [
    "import datetime as dt\n",
    "\n",
    "# Get today's date\n",
    "today = dt.date.today()\n",
    "\n",
    "# Set the birth date (example)\n",
    "birth_date = dt.date(2035, 8, 25)\n",
    "\n",
    "# Calculate the difference in years\n",
    "age = today.year - birth_date.year\n",
    "\n",
    "# Adjust the age if the birthday hasn't occurred yet this year\n",
    "if (today.month, today.day) < (birth_date.month, birth_date.day):\n",
    "    age -= 1\n",
    "\n",
    "# Output the age\n",
    "print(f\"Age: {age} years\")\n"
   ]
  },
  {
   "cell_type": "code",
   "execution_count": 75,
   "id": "a919d0b2-2786-4b68-865c-a9a4dec0a3f8",
   "metadata": {},
   "outputs": [
    {
     "name": "stdout",
     "output_type": "stream",
     "text": [
      "46\n"
     ]
    }
   ],
   "source": [
    "import datetime as d\n",
    "a=d.date.today()\n",
    "b=d.date(1979,8,25)\n",
    "c=a.year-b.year\n",
    "print(c)"
   ]
  },
  {
   "cell_type": "code",
   "execution_count": 169,
   "id": "cdcdc348-0900-4882-93c3-5049a149aab6",
   "metadata": {},
   "outputs": [
    {
     "data": {
      "text/plain": [
       "32"
      ]
     },
     "execution_count": 169,
     "metadata": {},
     "output_type": "execute_result"
    }
   ],
   "source": [
    "fp=open('demo.txt','r')\n",
    "a=fp.read()\n",
    "c=a.split('\\n')\n",
    "count=0\n",
    "temp=[]\n",
    "for i in c:\n",
    "    temp=i.split(' ')\n",
    "    # print(temp)\n",
    "    for j in temp:\n",
    "        if(j in i):\n",
    "            count=count+1\n",
    "count"
   ]
  },
  {
   "cell_type": "code",
   "execution_count": 139,
   "id": "a784f963-6beb-49b5-afc3-a32ff5b18f3a",
   "metadata": {},
   "outputs": [
    {
     "name": "stdout",
     "output_type": "stream",
     "text": [
      "hello: 16\n",
      "file: 16\n"
     ]
    }
   ],
   "source": [
    "# ChatGPT\n",
    "# Open and read the file\n",
    "file_path = 'demo.txt'  # Replace with your file path\n",
    "with open(file_path, 'r') as file:\n",
    "    text = file.read()\n",
    "\n",
    "# Convert the text to lowercase manually (no lower() function)\n",
    "text = ''.join([char.lower() if 'A' <= char <= 'Z' else char for char in text])\n",
    "\n",
    "# Remove punctuation manually (no translate() function)\n",
    "punctuation = \".,!?;:'\\\"()[]{}<>\"\n",
    "text = ''.join([char if char not in punctuation else ' ' for char in text])\n",
    "\n",
    "# Manually split the text into words\n",
    "words = []\n",
    "word = \"\"\n",
    "for char in text:\n",
    "    if char.isalnum():  # If the character is part of a word (alphanumeric)\n",
    "        word += char\n",
    "    else:\n",
    "        if word:  # If word is not empty\n",
    "            words.append(word)\n",
    "            word = \"\"  # Reset word after appending\n",
    "if word:  # Add the last word if exists\n",
    "    words.append(word)\n",
    "\n",
    "# Create an empty dictionary to store word counts\n",
    "word_count = {}\n",
    "\n",
    "# Count the occurrences of each word manually (no Counter)\n",
    "for word in words:\n",
    "    found = False\n",
    "    for key in word_count:\n",
    "        if key == word:\n",
    "            word_count[key] += 1\n",
    "            found = True\n",
    "            break\n",
    "    if not found:\n",
    "        word_count[word] = 1\n",
    "\n",
    "# Display the word counts\n",
    "for word, count in word_count.items():\n",
    "    print(f\"{word}: {count}\")"
   ]
  },
  {
   "cell_type": "code",
   "execution_count": 141,
   "id": "594e949c-dad8-464c-a352-91b3382b74b5",
   "metadata": {},
   "outputs": [
    {
     "name": "stdout",
     "output_type": "stream",
     "text": [
      "hello: 16\n",
      "file: 16\n",
      "\n",
      "The most frequent word is: 'hello' with a count of 16\n"
     ]
    }
   ],
   "source": [
    "# Google AI Studio\n",
    "import re\n",
    "\n",
    "def count_word_occurrences(filepath):\n",
    "    \"\"\"\n",
    "    Counts the occurrences of each word in a text file.\n",
    "\n",
    "    Args:\n",
    "        filepath (str): The path to the text file.\n",
    "\n",
    "    Returns:\n",
    "        dict: A dictionary where keys are words (lowercase) and values are their counts.\n",
    "             Returns an empty dictionary if the file does not exist or is empty.\n",
    "             Returns None if there's an error reading the file.\n",
    "    \"\"\"\n",
    "    try:\n",
    "        with open(filepath, 'r', encoding='utf-8') as file:  # Specify encoding to handle various characters\n",
    "            text = file.read()\n",
    "    except FileNotFoundError:\n",
    "        print(f\"Error: File not found at path: {filepath}\")\n",
    "        return {}  # Return empty dictionary if file not found\n",
    "    except Exception as e:\n",
    "        print(f\"Error reading file: {e}\")\n",
    "        return None # Return None if there's an error reading the file.\n",
    "\n",
    "    # Remove punctuation and convert to lowercase for accurate counting\n",
    "    text = re.sub(r'[^\\w\\s]', '', text).lower()\n",
    "\n",
    "    words = text.split()\n",
    "    word_counts = {}\n",
    "\n",
    "    for word in words:\n",
    "        if word:  # Ignore empty strings\n",
    "            word_counts[word] = word_counts.get(word, 0) + 1  # Efficient way to increment count\n",
    "\n",
    "    return word_counts\n",
    "\n",
    "\n",
    "# Example Usage\n",
    "if __name__ == \"__main__\":\n",
    "    filepath = \"demo.txt\"  # Replace with your file path\n",
    "    word_counts = count_word_occurrences(filepath)\n",
    "\n",
    "    if word_counts is None:\n",
    "        print(\"An error occurred while processing the file.\")\n",
    "    elif not word_counts:\n",
    "        print(\"The file is empty or does not exist.\")\n",
    "    else:\n",
    "        # Print the word counts\n",
    "        for word, count in word_counts.items():\n",
    "            print(f\"{word}: {count}\")\n",
    "\n",
    "        # Example: Find the most frequent word\n",
    "        most_frequent_word = max(word_counts, key=word_counts.get)  # Efficient way to find max value\n",
    "        print(f\"\\nThe most frequent word is: '{most_frequent_word}' with a count of {word_counts[most_frequent_word]}\")"
   ]
  },
  {
   "cell_type": "code",
   "execution_count": 145,
   "id": "46905b8c-a20d-42a0-8f9e-cc4198b2cc56",
   "metadata": {},
   "outputs": [
    {
     "name": "stdout",
     "output_type": "stream",
     "text": [
      "hello: 16\n",
      "file: 16\n"
     ]
    }
   ],
   "source": [
    "# Google AI Studio\n",
    "from collections import Counter\n",
    "import re\n",
    "\n",
    "def count_word_occurrences_easy(filepath):\n",
    "    \"\"\"\n",
    "    Counts word occurrences in a file using Counter (easiest way).\n",
    "    \"\"\"\n",
    "    try:\n",
    "        with open(filepath, 'r', encoding='utf-8') as file:\n",
    "            text = file.read().lower()\n",
    "            words = re.findall(r'\\b\\w+\\b', text) # Find all words\n",
    "            return Counter(words)\n",
    "    except FileNotFoundError:\n",
    "        print(f\"File not found: {filepath}\")\n",
    "        return {}\n",
    "    except Exception as e:\n",
    "        print(f\"Error reading file: {e}\")\n",
    "        return {} # Return an empty counter so the program doesn't crash\n",
    "\n",
    "# Example usage:\n",
    "if __name__ == \"__main__\":\n",
    "    filepath = \"demo.txt\"  # Replace with your file path\n",
    "    word_counts = count_word_occurrences_easy(filepath)\n",
    "\n",
    "    if word_counts: # Check if counter is non-empty\n",
    "        for word, count in word_counts.items():\n",
    "            print(f\"{word}: {count}\")\n",
    "    else:\n",
    "        print(\"No words found or file error.\")"
   ]
  },
  {
   "cell_type": "code",
   "execution_count": 171,
   "id": "c45c398b-b4c2-42b8-9ee9-c868ee028252",
   "metadata": {},
   "outputs": [
    {
     "name": "stdout",
     "output_type": "stream",
     "text": [
      "hello: 16\n",
      "file.: 16\n"
     ]
    }
   ],
   "source": [
    "# ChatGPT\n",
    "fp = open('demo.txt', 'r')\n",
    "a = fp.read()\n",
    "fp.close()  # Don't forget to close the file after reading\n",
    "\n",
    "# Split the content by lines\n",
    "c = a.split('\\n')\n",
    "\n",
    "count = 0\n",
    "word_count = {}  # Dictionary to store word frequencies\n",
    "\n",
    "# Process each line\n",
    "for i in c:\n",
    "    temp = i.split(' ')  # Split each line into words\n",
    "    \n",
    "    for word in temp:\n",
    "        word = word.strip().lower()  # Remove any leading/trailing spaces and convert to lowercase\n",
    "        if word:  # Skip empty words (if there are extra spaces)\n",
    "            if word in word_count:\n",
    "                word_count[word] += 1  # Increment count if word already exists\n",
    "            else:\n",
    "                word_count[word] = 1  # Initialize count if word is found for the first time\n",
    "\n",
    "# Print word counts\n",
    "for word, count in word_count.items():\n",
    "    print(f\"{word}: {count}\")"
   ]
  },
  {
   "cell_type": "code",
   "execution_count": 173,
   "id": "127cf205-25d8-42fb-a37b-84327ac43f71",
   "metadata": {},
   "outputs": [
    {
     "name": "stdout",
     "output_type": "stream",
     "text": [
      "32\n"
     ]
    }
   ],
   "source": [
    "# Google AI\n",
    "fp=open('demo.txt','r')\n",
    "a=fp.read()\n",
    "fp.close() # Good practice to close the file after reading\n",
    "c=a.split('\\n')\n",
    "count=0\n",
    "# temp=[]  # Not really needed\n",
    "for i in c:\n",
    "    temp=i.split(' ')  #Splits the line based on whitespace\n",
    "    # print(temp)\n",
    "    for j in temp:\n",
    "        if j: #Check if j is not an empty string\n",
    "            count=count+1 # Counts each non-empty word\n",
    "print(count)"
   ]
  },
  {
   "cell_type": "code",
   "execution_count": 45,
   "id": "20c5fef7-0915-4797-8fc9-245371a77e73",
   "metadata": {},
   "outputs": [
    {
     "ename": "ValueError",
     "evalue": "second must be in 0..59",
     "output_type": "error",
     "traceback": [
      "\u001b[1;31m---------------------------------------------------------------------------\u001b[0m",
      "\u001b[1;31mValueError\u001b[0m                                Traceback (most recent call last)",
      "Cell \u001b[1;32mIn[45], line 31\u001b[0m\n\u001b[0;32m     28\u001b[0m b \u001b[38;5;241m=\u001b[39m d\u001b[38;5;241m.\u001b[39mtime(\u001b[38;5;241m0\u001b[39m, \u001b[38;5;241m0\u001b[39m, \u001b[38;5;241m1\u001b[39m)\n\u001b[0;32m     30\u001b[0m ob\u001b[38;5;241m=\u001b[39mTime(a)\n\u001b[1;32m---> 31\u001b[0m ob\u001b[38;5;241m.\u001b[39maddtime(b)\n",
      "Cell \u001b[1;32mIn[45], line 24\u001b[0m, in \u001b[0;36mTime.addtime\u001b[1;34m(self, b)\u001b[0m\n\u001b[0;32m     21\u001b[0m \u001b[38;5;28;01mif\u001b[39;00m(hour\u001b[38;5;241m>\u001b[39m\u001b[38;5;241m24\u001b[39m):\n\u001b[0;32m     22\u001b[0m     hour\u001b[38;5;241m=\u001b[39mhour\u001b[38;5;241m-\u001b[39m\u001b[38;5;241m24\u001b[39m\n\u001b[1;32m---> 24\u001b[0m temp\u001b[38;5;241m=\u001b[39md\u001b[38;5;241m.\u001b[39mtime(hour,minute,second)\n\u001b[0;32m     25\u001b[0m \u001b[38;5;28mprint\u001b[39m(\u001b[38;5;124m\"\u001b[39m\u001b[38;5;124mTime :\u001b[39m\u001b[38;5;124m\"\u001b[39m,temp)\n",
      "\u001b[1;31mValueError\u001b[0m: second must be in 0..59"
     ]
    }
   ],
   "source": [
    "import datetime as d\n",
    "\n",
    "class Time:\n",
    "    def __init__(self,a):\n",
    "        self.h=a.hour\n",
    "        self.m=a.minute\n",
    "        self.s=a.second\n",
    "\n",
    "    def addtime(self,b):\n",
    "        hour=self.h+b.hour\n",
    "        minute=self.m+b.minute\n",
    "        second=self.s+b.second\n",
    "        if(second>60):\n",
    "            second=second-60\n",
    "            minute=minute+1\n",
    "\n",
    "        if(minute>60):\n",
    "            minute=minute-60\n",
    "            hour=hour+1\n",
    "\n",
    "        if(hour>24):\n",
    "            hour=hour-24\n",
    "\n",
    "        temp=d.time(hour,minute,second)\n",
    "        print(\"Time :\",temp)\n",
    "\n",
    "a = d.time(23, 59, 59)\n",
    "b = d.time(0, 0, 1)\n",
    "\n",
    "ob=Time(a)\n",
    "ob.addtime(b)"
   ]
  },
  {
   "cell_type": "code",
   "execution_count": 43,
   "id": "8cc00356-ccd6-43d9-9a2a-9639785ca731",
   "metadata": {},
   "outputs": [
    {
     "name": "stdout",
     "output_type": "stream",
     "text": [
      "38 71\n",
      "Time : 00:00:00\n"
     ]
    }
   ],
   "source": [
    "import datetime as d\n",
    "\n",
    "class Time:\n",
    "    def __init__(self, a):\n",
    "        self.h = a.hour\n",
    "        self.m = a.minute\n",
    "        self.s = a.second\n",
    "\n",
    "    def addtime(self, b):\n",
    "        hour = self.h + b.hour\n",
    "        minute = self.m + b.minute\n",
    "        second = self.s + b.second\n",
    "\n",
    "        if second >= 60:\n",
    "            minute += second // 60\n",
    "            second %= 60\n",
    "\n",
    "        if minute >= 60:\n",
    "            hour += minute // 60\n",
    "            minute %= 60\n",
    "\n",
    "        hour %= 24  # Ensure hour stays within 0-23 range\n",
    "\n",
    "        temp = d.time(hour, minute, second)\n",
    "        print(\"Time :\", temp)\n",
    "\n",
    "a = d.time(2, 6, 59)\n",
    "b = d.time(0, 0, 1)\n",
    "print(98%60,70+(98//60))\n",
    "ob = Time(a)\n",
    "ob.addtime(b)"
   ]
  },
  {
   "cell_type": "code",
   "execution_count": 4,
   "id": "93dcddf1-4cba-4155-8d1b-ab5b50281b8f",
   "metadata": {},
   "outputs": [
    {
     "name": "stdout",
     "output_type": "stream",
     "text": [
      "Time: 03:49:22\n"
     ]
    }
   ],
   "source": [
    "# TimeDelta\n",
    "import datetime as d\n",
    "\n",
    "class Time:\n",
    "    def __init__(self, a):\n",
    "        self.h = a.hour\n",
    "        self.m = a.minute\n",
    "        self.s = a.second\n",
    "\n",
    "    def addtime(self, b):\n",
    "        # Convert current time to a timedelta object\n",
    "        current_time = d.timedelta(hours=self.h, minutes=self.m, seconds=self.s)\n",
    "        additional_time = d.timedelta(hours=b.hour, minutes=b.minute, seconds=b.second)\n",
    "\n",
    "        # Add the two time deltas\n",
    "        new_time = current_time + additional_time\n",
    "        \n",
    "        # Convert the result back to hours, minutes, seconds\n",
    "        new_hour = (new_time.total_seconds() // 3600) % 24\n",
    "        new_minute = (new_time.total_seconds() % 3600) // 60\n",
    "        new_second = new_time.total_seconds() % 60\n",
    "\n",
    "        print(f\"Time: {int(new_hour):02}:{int(new_minute):02}:{int(new_second):02}\")\n",
    "\n",
    "a = d.time(2, 6, 3)\n",
    "b = d.time(1, 43, 19)\n",
    "\n",
    "ob = Time(a)\n",
    "ob.addtime(b)"
   ]
  },
  {
   "cell_type": "code",
   "execution_count": null,
   "id": "244c381d-be4c-4631-a372-b2761b81663c",
   "metadata": {},
   "outputs": [],
   "source": []
  },
  {
   "cell_type": "code",
   "execution_count": null,
   "id": "2b49890e-1bfc-4a2e-802c-b0c1d253e3d3",
   "metadata": {},
   "outputs": [],
   "source": []
  },
  {
   "cell_type": "code",
   "execution_count": null,
   "id": "7c0bfd77-2eb9-45fd-90d4-3bb662c90dc7",
   "metadata": {},
   "outputs": [],
   "source": []
  },
  {
   "cell_type": "code",
   "execution_count": null,
   "id": "ae1318bc-e3ca-4c6c-b579-30ef38948b3f",
   "metadata": {},
   "outputs": [],
   "source": []
  },
  {
   "cell_type": "code",
   "execution_count": null,
   "id": "7578c0ed-cf8f-4c37-adfe-c3943d908669",
   "metadata": {},
   "outputs": [],
   "source": []
  },
  {
   "cell_type": "code",
   "execution_count": null,
   "id": "55f8d2e1-f814-4cff-8b69-30d745231858",
   "metadata": {},
   "outputs": [],
   "source": []
  }
 ],
 "metadata": {
  "kernelspec": {
   "display_name": "Python 3 (ipykernel)",
   "language": "python",
   "name": "python3"
  },
  "language_info": {
   "codemirror_mode": {
    "name": "ipython",
    "version": 3
   },
   "file_extension": ".py",
   "mimetype": "text/x-python",
   "name": "python",
   "nbconvert_exporter": "python",
   "pygments_lexer": "ipython3",
   "version": "3.12.7"
  }
 },
 "nbformat": 4,
 "nbformat_minor": 5
}
